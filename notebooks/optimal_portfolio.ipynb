{
 "cells": [
  {
   "cell_type": "markdown",
   "metadata": {},
   "source": [
    "# Optimal Portoflio\n",
    "\n",
    "This notebook demonstrates how to use [Markowitz Portfolio](https://www.math.hkust.edu.hk/~maykwok/courses/ma362/07F/markowitz_JF.pdf) optimization to setup an optimal portfolio using the MultiInstrumentEnv."
   ]
  },
  {
   "cell_type": "code",
   "execution_count": 1,
   "metadata": {},
   "outputs": [],
   "source": [
    "import gymnasium as gym\n",
    "import numpy as np\n",
    "import pandas as pd\n",
    "import matplotlib.pyplot as plt\n",
    "\n",
    "import deeptrade.env\n",
    "from deeptrade.env import HoldAgent, EWMACAgent, BreakoutAgent\n",
    "import deeptrade.util.finance as futils\n",
    "\n",
    "COLOURS = [[0, 18, 25], [0, 95, 115], [10, 147, 150], [148, 210, 189], [233, 216, 166], [238, 155, 0], [202, 103, 2], [187, 62, 3], [174, 32, 18], [155, 34, 38]]\n",
    "COLOURS = [[value/255 for value in rgb] for rgb in COLOURS]"
   ]
  },
  {
   "cell_type": "code",
   "execution_count": 29,
   "metadata": {},
   "outputs": [],
   "source": [
    "seed = 0\n",
    "n_instruments = 5\n",
    "starting_prices = [10000.0, 10000.0, 10000.0, 10000.0, 10000.0]\n",
    "drifts = [0.0011, 0.0012, 0.009, 0.0011, 0.0012]\n",
    "vars = [0.08, 0.04, 0.05, 0.09, 0.01]\n",
    "n_days = 365\n",
    "price_gen_info = {\n",
    "    \"starting_prices\": starting_prices,\n",
    "    \"means\": drifts,\n",
    "    \"vars\": vars,\n",
    "    \"n_days\": n_days, \n",
    "}\n",
    "env = gym.make(\"MultiInstrument-v0\", seed=seed, n_instruments = 5, price_gen_info=price_gen_info)"
   ]
  },
  {
   "cell_type": "code",
   "execution_count": null,
   "metadata": {},
   "outputs": [],
   "source": [
    "price_data = env.unwrapped.prices_data\n",
    "\n",
    "fig, ax = plt.subplots(1, 1, figsize=(10, 5))\n",
    "for i in range(n_instruments):\n",
    "    ax.plot(price_data[i], label=f\"Instrument {i}\", color=COLOURS[i+1])\n",
    "ax.grid()\n",
    "ax.legend()\n",
    "ax.set_ylabel(\"Price [USD]\")\n",
    "ax.set_xlabel(\"Time [days]\")\n",
    "fig.show()"
   ]
  },
  {
   "cell_type": "code",
   "execution_count": null,
   "metadata": {},
   "outputs": [],
   "source": [
    "from pypfopt import risk_models\n",
    "from pypfopt import plotting\n",
    "\n",
    "dates = pd.date_range(start='1990-01-01', periods=price_data.shape[1], freq='D')\n",
    "prices = pd.DataFrame(price_data.T, index=dates, columns=[f'Asset {i+1}' for i in range(price_data.shape[0])])\n",
    "sample_cov = risk_models.sample_cov(prices, frequency=252)\n",
    "sample_cov"
   ]
  },
  {
   "cell_type": "code",
   "execution_count": null,
   "metadata": {},
   "outputs": [],
   "source": [
    "plotting.plot_covariance(sample_cov, plot_correlation=True)"
   ]
  },
  {
   "cell_type": "code",
   "execution_count": null,
   "metadata": {},
   "outputs": [],
   "source": [
    "S = risk_models.CovarianceShrinkage(prices).ledoit_wolf()\n",
    "plotting.plot_covariance(S, plot_correlation=True)"
   ]
  },
  {
   "cell_type": "code",
   "execution_count": null,
   "metadata": {},
   "outputs": [],
   "source": [
    "from pypfopt import EfficientFrontier\n",
    "from pypfopt import expected_returns\n",
    "mu = expected_returns.capm_return(prices)\n",
    "ef = EfficientFrontier(mu, S)\n",
    "print(mu)\n",
    "\n",
    "n_samples = 10000\n",
    "w = np.random.dirichlet(np.ones(len(mu)), n_samples)\n",
    "rets = w.dot(mu)\n",
    "stds = np.sqrt((w.T * (S @ w.T)).sum(axis=0))\n",
    "sharpes = rets / stds\n",
    "\n",
    "\n",
    "fig, ax = plt.subplots()\n",
    "plotting.plot_efficient_frontier(ef, ax=ax, show_assets=False, verbose=True)\n",
    "\n",
    "ef2 = EfficientFrontier(mu, S)\n",
    "ef2.max_sharpe()\n",
    "ret_tangent, std_tangent, _ = ef2.portfolio_performance()\n",
    "print(ret_tangent, std_tangent)\n",
    "ax.scatter(stds, rets, marker=\".\", c=sharpes, cmap=\"viridis_r\")\n",
    "ax.scatter(std_tangent, ret_tangent, marker=\"*\", s=100, c=\"r\", label=\"Max Sharpe\")\n",
    "ax.set_title(\"Efficient Frontier with random portfolios\")\n",
    "ax.legend()\n",
    "ax.grid()\n",
    "plt.tight_layout()\n",
    "plt.show()\n"
   ]
  },
  {
   "cell_type": "code",
   "execution_count": null,
   "metadata": {},
   "outputs": [],
   "source": [
    "from pypfopt import EfficientFrontier\n",
    "from pypfopt import risk_models\n",
    "from pypfopt import expected_returns\n",
    "dates = pd.date_range(start='1990-01-01', periods=price_data.shape[1], freq='D')\n",
    "prices = pd.DataFrame(price_data.T, index=dates, columns=[f'Asset {i+1}' for i in range(price_data.shape[0])])\n",
    "mu = expected_returns.mean_historical_return(prices)\n",
    "S = risk_models.sample_cov(prices)\n",
    "ef = EfficientFrontier(mu, S)\n",
    "raw_weights = ef.max_sharpe()\n",
    "cleaned_weights = ef.clean_weights()\n",
    "print(cleaned_weights)\n",
    "ef.portfolio_performance(verbose=True)\n",
    "\n",
    "from pypfopt.discrete_allocation import DiscreteAllocation, get_latest_prices\n",
    "\n",
    "\n",
    "latest_prices = get_latest_prices(prices)\n",
    "\n",
    "da = DiscreteAllocation(weights=cleaned_weights, latest_prices=latest_prices, total_portfolio_value=1000)\n",
    "allocation, leftover = da.greedy_portfolio()\n",
    "print(\"Discrete allocation:\", allocation)\n",
    "print(\"Funds remaining: ${:.2f}\".format(leftover))\n"
   ]
  },
  {
   "cell_type": "code",
   "execution_count": null,
   "metadata": {},
   "outputs": [],
   "source": [
    "\n",
    "prices = env.unwrapped.prices_data\n",
    "simple_returns = []\n",
    "for idi in range(n_instruments):\n",
    "    simple_returns.append(futils.calculate_simple_returns(prices[idi]))\n",
    "\n",
    "def pretty_print_matrix(matrix):\n",
    "    for row in matrix:\n",
    "        print(\" \".join(f\"{elem:>5.7f}\" for elem in row))\n",
    "\n",
    "simple_returns = np.array(simple_returns)\n",
    "covm = np.cov(simple_returns)\n",
    "rets = np.mean(simple_returns, axis=1)\n",
    "pretty_print_matrix(covm)\n",
    "print(rets)\n",
    "plt.plot(futils.calculate_log_returns(prices[0, :]))\n",
    "\n",
    "from scipy.optimize import minimize\n",
    "\n",
    "def get_ef_numerically(rets, covm, targ: float = 0.00):\n",
    "    \n",
    "    def objective(weights):\n",
    "        return weights.T @ covm @ weights - targ * rets.T @ weights\n",
    "    \n",
    "    norm_constraint = lambda weights: 1 - weights.sum()\n",
    "    targ_constraint = lambda weights: np.dot(rets, weights) - targ\n",
    "    \n",
    "    resp = minimize(objective,\n",
    "                    x0=np.random.dirichlet([1]*len(rets)),\n",
    "                    method='SLSQP',\n",
    "                    bounds=[(0, 2)],\n",
    "                    constraints=[{'type': 'eq', 'fun': norm_constraint}]\n",
    "                    )\n",
    "    weights = resp.x\n",
    "    \n",
    "    return weights\n",
    "\n",
    "w = get_ef_numerically(rets, covm, 0.05)\n",
    "print(w, w.sum())\n",
    "print(f\"mu_p: {w.T @ rets}\")\n",
    "print(f\"sigma_p: {w.T @ covm @ w}\")\n",
    "\n",
    "agents = {}\n",
    "for instrument in range(n_instruments):\n",
    "    size = w[instrument] * 10.0\n",
    "    print(w[instrument], instrument)\n",
    "    agents[instrument] = HoldAgent(env, pos_size=size, instrument=instrument)"
   ]
  },
  {
   "cell_type": "code",
   "execution_count": null,
   "metadata": {},
   "outputs": [],
   "source": [
    "terminated, truncated = False, False\n",
    "observations = []\n",
    "actions = []\n",
    "times = []\n",
    "obs, _ = env.reset(seed=seed)\n",
    "while (not terminated) and (not truncated):\n",
    "    action = np.zeros(n_instruments)\n",
    "    for instrument, agent in agents.items():\n",
    "        action[instrument] = agent.act(obs)[instrument] * w[instrument]\n",
    "    obs, reward, terminated, truncated, _ = env.step(action)\n",
    "    observations.append(obs)\n",
    "    actions.append(action)\n",
    "    times.append(env.unwrapped.time)\n",
    "\n",
    "observations = np.array(observations)\n",
    "actions = np.array(actions)"
   ]
  },
  {
   "cell_type": "code",
   "execution_count": null,
   "metadata": {},
   "outputs": [],
   "source": [
    "margins = [obs['margin'] for obs in observations]\n",
    "fig, ax = plt.subplots(1, 1, figsize=(12, 6))\n",
    "ax.plot(times, margins, label='Margin')\n",
    "# for idp in range(n_instruments):\n",
    "    # ax.plot(times, prices[idp, :len(times)], label=f\"Position {idp}\")\n",
    "# ax.plot(times, prices[0, :len(times)])"
   ]
  }
 ],
 "metadata": {
  "kernelspec": {
   "display_name": "deeptrade-env",
   "language": "python",
   "name": "python3"
  },
  "language_info": {
   "codemirror_mode": {
    "name": "ipython",
    "version": 3
   },
   "file_extension": ".py",
   "mimetype": "text/x-python",
   "name": "python",
   "nbconvert_exporter": "python",
   "pygments_lexer": "ipython3",
   "version": "3.10.15"
  }
 },
 "nbformat": 4,
 "nbformat_minor": 2
}
