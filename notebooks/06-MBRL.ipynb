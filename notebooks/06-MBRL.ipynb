{
 "cells": [
  {
   "cell_type": "markdown",
   "metadata": {},
   "source": [
    "# Model-Base Reinforcement Learning (MBRL)\n",
    "\n",
    "Model Based Reinforcement Learning was the initial objective of this trading strategy. MBRL has the following steps:\n",
    "1. Create the model, replay buffers, environment and any preprocessing steps (like an auto-encoder).\n",
    "2. Collect experience and train the and dynamics model.\n",
    "3. Train the agent using the model and environment rollouts.\n",
    "4. Repeat steps 2 and 3 until convergence."
   ]
  }
 ],
 "metadata": {
  "language_info": {
   "name": "python"
  }
 },
 "nbformat": 4,
 "nbformat_minor": 2
}
